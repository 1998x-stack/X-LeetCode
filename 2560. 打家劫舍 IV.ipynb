{
 "cells": [
  {
   "cell_type": "code",
   "execution_count": 1,
   "metadata": {},
   "outputs": [
    {
     "data": {
      "text/plain": [
       "'\\n沿街有一排连续的房屋。每间房屋内都藏有一定的现金。现在有一位小偷计划从这些房屋中窃取现金。\\n\\n由于相邻的房屋装有相互连通的防盗系统，所以小偷 不会窃取相邻的房屋 。\\n\\n小偷的 窃取能力 定义为他在窃取过程中能从单间房屋中窃取的 最大金额 。\\n\\n给你一个整数数组 nums 表示每间房屋存放的现金金额。形式上，从左起第 i 间房屋中放有 nums[i] 美元。\\n\\n另给你一个整数 k ，表示窃贼将会窃取的 最少 房屋数。小偷总能窃取至少 k 间房屋。\\n\\n返回小偷的 最小 窃取能力。\\n\\n \\n\\n示例 1：\\n\\n输入：nums = [2,3,5,9], k = 2\\n输出：5\\n解释：\\n小偷窃取至少 2 间房屋，共有 3 种方式：\\n- 窃取下标 0 和 2 处的房屋，窃取能力为 max(nums[0], nums[2]) = 5 。\\n- 窃取下标 0 和 3 处的房屋，窃取能力为 max(nums[0], nums[3]) = 9 。\\n- 窃取下标 1 和 3 处的房屋，窃取能力为 max(nums[1], nums[3]) = 9 。\\n因此，返回 min(5, 9, 9) = 5 。\\n示例 2：\\n\\n输入：nums = [2,7,9,3,1], k = 2\\n输出：2\\n解释：共有 7 种窃取方式。窃取能力最小的情况所对应的方式是窃取下标 0 和 4 处的房屋。返回 max(nums[0], nums[4]) = 2 。\\n \\n\\n提示：\\n\\n1 <= nums.length <= 105\\n1 <= nums[i] <= 109\\n1 <= k <= (nums.length + 1)/2\\n'"
      ]
     },
     "execution_count": 1,
     "metadata": {},
     "output_type": "execute_result"
    }
   ],
   "source": [
    "# https://leetcode.cn/problems/house-robber-iv/description/?envType=daily-question&envId=2023-09-19\n",
    "\"\"\"\n",
    "沿街有一排连续的房屋。每间房屋内都藏有一定的现金。现在有一位小偷计划从这些房屋中窃取现金。\n",
    "\n",
    "由于相邻的房屋装有相互连通的防盗系统，所以小偷 不会窃取相邻的房屋 。\n",
    "\n",
    "小偷的 窃取能力 定义为他在窃取过程中能从单间房屋中窃取的 最大金额 。\n",
    "\n",
    "给你一个整数数组 nums 表示每间房屋存放的现金金额。形式上，从左起第 i 间房屋中放有 nums[i] 美元。\n",
    "\n",
    "另给你一个整数 k ，表示窃贼将会窃取的 最少 房屋数。小偷总能窃取至少 k 间房屋。\n",
    "\n",
    "返回小偷的 最小 窃取能力。\n",
    "\n",
    " \n",
    "\n",
    "示例 1：\n",
    "\n",
    "输入：nums = [2,3,5,9], k = 2\n",
    "输出：5\n",
    "解释：\n",
    "小偷窃取至少 2 间房屋，共有 3 种方式：\n",
    "- 窃取下标 0 和 2 处的房屋，窃取能力为 max(nums[0], nums[2]) = 5 。\n",
    "- 窃取下标 0 和 3 处的房屋，窃取能力为 max(nums[0], nums[3]) = 9 。\n",
    "- 窃取下标 1 和 3 处的房屋，窃取能力为 max(nums[1], nums[3]) = 9 。\n",
    "因此，返回 min(5, 9, 9) = 5 。\n",
    "示例 2：\n",
    "\n",
    "输入：nums = [2,7,9,3,1], k = 2\n",
    "输出：2\n",
    "解释：共有 7 种窃取方式。窃取能力最小的情况所对应的方式是窃取下标 0 和 4 处的房屋。返回 max(nums[0], nums[4]) = 2 。\n",
    " \n",
    "\n",
    "提示：\n",
    "\n",
    "1 <= nums.length <= 105\n",
    "1 <= nums[i] <= 109\n",
    "1 <= k <= (nums.length + 1)/2\n",
    "\"\"\""
   ]
  },
  {
   "cell_type": "markdown",
   "metadata": {},
   "source": [
    "方法一：递归 + 记忆化搜索\n",
    "\n",
    "1. 使用递归函数 dfs(index, k, nums, memo)，其中 index 是当前房屋的索引，k 是还需要偷窃的房屋数量，nums 是房屋金额数组，memo 是用于保存已计算结果的字典。\n",
    "2. 递归终止条件：当 k 为 0 或 index 超过数组长度。\n",
    "3. 在递归过程中，对于每一个 index，有两种选择：偷或不偷。如果偷，则下一个可选的 index 是 index + 2；如果不偷，则下一个可选的 index 是 index + 1。"
   ]
  },
  {
   "cell_type": "code",
   "execution_count": 3,
   "metadata": {},
   "outputs": [
    {
     "name": "stderr",
     "output_type": "stream",
     "text": [
      "test_min_rob_capability (__main__.TestHouseRobber) ... ok\n",
      "\n",
      "----------------------------------------------------------------------\n",
      "Ran 1 test in 0.002s\n",
      "\n",
      "OK\n"
     ]
    },
    {
     "data": {
      "text/plain": [
       "<unittest.main.TestProgram at 0x108a86c40>"
      ]
     },
     "execution_count": 3,
     "metadata": {},
     "output_type": "execute_result"
    }
   ],
   "source": [
    "# 导入必要的库\n",
    "from typing import List, Dict\n",
    "import unittest\n",
    "# 修正代码并重新执行\n",
    "\n",
    "class HouseRobber:\n",
    "\n",
    "    def __init__(self):\n",
    "        # 初始化记忆化字典\n",
    "        self.memo = {}\n",
    "        \n",
    "    def dfs(self, index: int, k: int, nums: List[int]) -> int:\n",
    "        \"\"\"\n",
    "        使用深度优先搜索（DFS）解决问题。\n",
    "        \n",
    "        参数:\n",
    "        index (int): 当前房屋的索引。\n",
    "        k (int): 还需要窃取的房屋数量。\n",
    "        nums (List[int]): 房屋金额数组。\n",
    "        \n",
    "        返回:\n",
    "        int: 最小窃取能力。\n",
    "        \"\"\"\n",
    "        # 递归终止条件\n",
    "        if k == 0:\n",
    "            return 0\n",
    "        if index >= len(nums):\n",
    "            return float('inf')\n",
    "        \n",
    "        # 检查记忆化字典\n",
    "        if (index, k) in self.memo:\n",
    "            return self.memo[(index, k)]\n",
    "        \n",
    "        # 偷当前房屋\n",
    "        rob = max(nums[index], self.dfs(index + 2, k - 1, nums))\n",
    "        \n",
    "        # 不偷当前房屋\n",
    "        skip = self.dfs(index + 1, k, nums)\n",
    "        \n",
    "        # 计算最小窃取能力\n",
    "        result = min(rob, skip)\n",
    "        \n",
    "        # 保存结果到记忆化字典\n",
    "        self.memo[(index, k)] = result\n",
    "        \n",
    "        return result\n",
    "    \n",
    "    def min_rob_capability(self, nums: List[int], k: int) -> int:\n",
    "        \"\"\"\n",
    "        计算小偷的最小窃取能力。\n",
    "        \n",
    "        参数:\n",
    "        nums (List[int]): 房屋金额数组。\n",
    "        k (int): 小偷将会窃取的最少房屋数。\n",
    "        \n",
    "        返回:\n",
    "        int: 最小窃取能力。\n",
    "        \"\"\"\n",
    "        # 清空记忆化字典\n",
    "        self.memo.clear()\n",
    "        \n",
    "        # 使用 DFS 计算结果\n",
    "        return self.dfs(0, k, nums)\n",
    "        \n",
    "# 定义单元测试\n",
    "class TestHouseRobber(unittest.TestCase):\n",
    "\n",
    "    def test_min_rob_capability(self):\n",
    "        # 创建对象\n",
    "        obj = HouseRobber()\n",
    "        \n",
    "        # 测试案例1\n",
    "        self.assertEqual(obj.min_rob_capability([2, 3, 5, 9], 2), 5)\n",
    "        \n",
    "        # 测试案例2\n",
    "        self.assertEqual(obj.min_rob_capability([2, 7, 9, 3, 1], 2), 2)\n",
    "\n",
    "# 执行单元测试\n",
    "unittest.main(argv=[''], verbosity=2, exit=False)\n"
   ]
  },
  {
   "cell_type": "code",
   "execution_count": null,
   "metadata": {},
   "outputs": [],
   "source": []
  },
  {
   "cell_type": "markdown",
   "metadata": {},
   "source": [
    "动态规划解决方案\n",
    "步骤\n",
    "定义一个二维数组 dp[i][j]，其中 i 表示前 i 间房屋，j 表示已窃取的房屋数量。dp[i][j] 表示在这样的条件下，前 i 间房屋中窃取 j 间房屋能获得的最小最大金额。\n",
    "初始化 dp 数组：dp[0][0] = 0。\n",
    "状态转移：遍历数组，对于每一个 i 和 j，更新 dp[i][j]。\n",
    "当 nums 数组为空时，最小窃取能力应该是 0。\n",
    "当 nums 数组长度小于 k 时，函数应该抛出一个错误，因为小偷不能窃取至少 k 间房屋。\n",
    "当 k 等于 0 时，最小窃取能力应该是 0。"
   ]
  },
  {
   "cell_type": "code",
   "execution_count": 4,
   "metadata": {},
   "outputs": [
    {
     "name": "stderr",
     "output_type": "stream",
     "text": [
      "test_min_rob_capability (__main__.TestHouseRobber) ... ok\n",
      "test_min_rob_capability (__main__.TestHouseRobberDP) ... ok\n",
      "\n",
      "----------------------------------------------------------------------\n",
      "Ran 2 tests in 0.002s\n",
      "\n",
      "OK\n"
     ]
    },
    {
     "data": {
      "text/plain": [
       "<unittest.main.TestProgram at 0x108b3e9a0>"
      ]
     },
     "execution_count": 4,
     "metadata": {},
     "output_type": "execute_result"
    }
   ],
   "source": [
    "# 修正动态规划解决方案以处理临界情况\n",
    "\n",
    "class HouseRobberDP:\n",
    "    def min_rob_capability(self, nums: List[int], k: int) -> int:\n",
    "        \"\"\"\n",
    "        使用动态规划计算小偷的最小窃取能力，同时处理临界情况。\n",
    "        \n",
    "        参数:\n",
    "        nums (List[int]): 房屋金额数组。\n",
    "        k (int): 小偷将会窃取的最少房屋数。\n",
    "        \n",
    "        返回:\n",
    "        int: 最小窃取能力。\n",
    "        \"\"\"\n",
    "        # 处理临界情况\n",
    "        if not nums:\n",
    "            return 0\n",
    "        if len(nums) < k:\n",
    "            raise ValueError(\"The number of houses is less than k.\")\n",
    "        if k == 0:\n",
    "            return 0\n",
    "\n",
    "        n = len(nums)\n",
    "        # 初始化动态规划数组\n",
    "        dp = [[float('inf')] * (k + 1) for _ in range(n + 1)]\n",
    "        dp[0][0] = 0\n",
    "\n",
    "        # Base case: 当只有一个房子可以偷时，最小窃取能力就是这个房子里的金额\n",
    "        for i in range(1, n + 1):\n",
    "            dp[i][1] = min(dp[i - 1][1], nums[i - 1])\n",
    "        \n",
    "        for i in range(1, n + 1):\n",
    "            for j in range(2, k + 1):\n",
    "                # 不偷当前房屋\n",
    "                dp[i][j] = dp[i - 1][j]\n",
    "                \n",
    "                # 偷当前房屋\n",
    "                for m in range(i - 2, -1, -1):  # 避免偷相邻的房屋\n",
    "                    dp[i][j] = min(dp[i][j], max(dp[m][j - 1], nums[i - 1]))\n",
    "                    \n",
    "        return dp[-1][-1]\n",
    "\n",
    "# 定义单元测试类\n",
    "class TestHouseRobberDP(unittest.TestCase):\n",
    "\n",
    "    def test_min_rob_capability(self):\n",
    "        # 创建对象\n",
    "        obj = HouseRobberDP()\n",
    "        \n",
    "        # 测试案例1\n",
    "        self.assertEqual(obj.min_rob_capability([2, 3, 5, 9], 2), 5)\n",
    "        \n",
    "        # 测试案例2\n",
    "        self.assertEqual(obj.min_rob_capability([2, 7, 9, 3, 1], 2), 2)\n",
    "        \n",
    "        # 测试临界情况\n",
    "        self.assertEqual(obj.min_rob_capability([], 0), 0)  # 空数组，k=0\n",
    "        self.assertEqual(obj.min_rob_capability([1, 2, 3], 0), 0)  # 非空数组，k=0\n",
    "        with self.assertRaises(ValueError):  # 数组长度小于k\n",
    "            obj.min_rob_capability([1, 2], 3)\n",
    "\n",
    "# 执行单元测试\n",
    "unittest.main(argv=[''], verbosity=2, exit=False)\n"
   ]
  },
  {
   "cell_type": "code",
   "execution_count": null,
   "metadata": {},
   "outputs": [],
   "source": []
  }
 ],
 "metadata": {
  "kernelspec": {
   "display_name": "aibook",
   "language": "python",
   "name": "python3"
  },
  "language_info": {
   "codemirror_mode": {
    "name": "ipython",
    "version": 3
   },
   "file_extension": ".py",
   "mimetype": "text/x-python",
   "name": "python",
   "nbconvert_exporter": "python",
   "pygments_lexer": "ipython3",
   "version": "3.8.17"
  },
  "orig_nbformat": 4
 },
 "nbformat": 4,
 "nbformat_minor": 2
}
